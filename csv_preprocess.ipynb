{
 "cells": [
  {
   "cell_type": "markdown",
   "metadata": {},
   "source": [
    "- 기초 작업"
   ]
  },
  {
   "cell_type": "code",
   "execution_count": 1,
   "metadata": {},
   "outputs": [],
   "source": [
    "# 파일 및 폴더 관련\n",
    "import os\n",
    "import natsort\n",
    "import os.path\n",
    "\n",
    "# 작동 관련\n",
    "import pandas as pd\n",
    "import numpy as np\n",
    "import json\n",
    "import re"
   ]
  },
  {
   "cell_type": "code",
   "execution_count": 16,
   "metadata": {},
   "outputs": [],
   "source": [
    "# 기본 경로\n",
    "img_path  = 'C:/Users/admin/Desktop/CAT/RAW/'\n",
    "json_path = 'C:/Users/admin/Desktop/CAT/LABEL/'"
   ]
  },
  {
   "cell_type": "code",
   "execution_count": 17,
   "metadata": {},
   "outputs": [],
   "source": [
    "# 프레임 넘버를 뽑아내기 위한 정규화 함수 미리 설정\n",
    "def getFrameNum(imgcol):\n",
    "    p = '_(\\d{1,5})_'\n",
    "    if re.search(p, imgcol):\n",
    "        result = re.findall(p, imgcol)\n",
    "        return result[0]"
   ]
  },
  {
   "cell_type": "markdown",
   "metadata": {},
   "source": [
    "- img_df"
   ]
  },
  {
   "cell_type": "code",
   "execution_count": 18,
   "metadata": {},
   "outputs": [
    {
     "data": {
      "text/plain": [
       "['ARCH']"
      ]
     },
     "execution_count": 18,
     "metadata": {},
     "output_type": "execute_result"
    }
   ],
   "source": [
    "img_pose = os.listdir(img_path)\n",
    "img_pose = natsort.natsorted(img_pose)\n",
    "img_pose"
   ]
  },
  {
   "cell_type": "code",
   "execution_count": 19,
   "metadata": {},
   "outputs": [
    {
     "data": {
      "text/plain": [
       "['ARCH']"
      ]
     },
     "execution_count": 19,
     "metadata": {},
     "output_type": "execute_result"
    }
   ],
   "source": [
    "### 테스트중 ###\n",
    "json_pose = os.listdir(json_path)\n",
    "json_pose = natsort.natsorted(json_pose)\n",
    "json_pose"
   ]
  },
  {
   "cell_type": "code",
   "execution_count": 20,
   "metadata": {},
   "outputs": [
    {
     "ename": "FileNotFoundError",
     "evalue": "[Errno 2] No such file or directory: '20201113_cat-arch-000157.mp4.json'",
     "output_type": "error",
     "traceback": [
      "\u001b[1;31m---------------------------------------------------------------------------\u001b[0m",
      "\u001b[1;31mFileNotFoundError\u001b[0m                         Traceback (most recent call last)",
      "\u001b[1;32mc:\\Users\\admin\\Desktop\\[P4]CatProject\\csv_preprocess.ipynb 셀 8\u001b[0m in \u001b[0;36m<cell line: 4>\u001b[1;34m()\u001b[0m\n\u001b[0;32m     <a href='vscode-notebook-cell:/c%3A/Users/admin/Desktop/%5BP4%5DCatProject/csv_preprocess.ipynb#X15sZmlsZQ%3D%3D?line=14'>15</a>\u001b[0m \u001b[39mfor\u001b[39;00m j \u001b[39min\u001b[39;00m \u001b[39mrange\u001b[39m(\u001b[39mlen\u001b[39m(video_list)):\n\u001b[0;32m     <a href='vscode-notebook-cell:/c%3A/Users/admin/Desktop/%5BP4%5DCatProject/csv_preprocess.ipynb#X15sZmlsZQ%3D%3D?line=15'>16</a>\u001b[0m     \u001b[39m# json\u001b[39;00m\n\u001b[0;32m     <a href='vscode-notebook-cell:/c%3A/Users/admin/Desktop/%5BP4%5DCatProject/csv_preprocess.ipynb#X15sZmlsZQ%3D%3D?line=16'>17</a>\u001b[0m     \u001b[39mif\u001b[39;00m json_list[j]\u001b[39m.\u001b[39msplit(\u001b[39m'\u001b[39m\u001b[39m.json\u001b[39m\u001b[39m'\u001b[39m)[\u001b[39m0\u001b[39m] \u001b[39m==\u001b[39m video_list[j]:\n\u001b[1;32m---> <a href='vscode-notebook-cell:/c%3A/Users/admin/Desktop/%5BP4%5DCatProject/csv_preprocess.ipynb#X15sZmlsZQ%3D%3D?line=17'>18</a>\u001b[0m         \u001b[39mwith\u001b[39;00m \u001b[39mopen\u001b[39;49m(json_list[j], encoding\u001b[39m=\u001b[39;49m\u001b[39m'\u001b[39;49m\u001b[39mutf-8\u001b[39;49m\u001b[39m'\u001b[39;49m) \u001b[39mas\u001b[39;00m f:\n\u001b[0;32m     <a href='vscode-notebook-cell:/c%3A/Users/admin/Desktop/%5BP4%5DCatProject/csv_preprocess.ipynb#X15sZmlsZQ%3D%3D?line=18'>19</a>\u001b[0m             data \u001b[39m=\u001b[39m json\u001b[39m.\u001b[39mload(f)\n\u001b[0;32m     <a href='vscode-notebook-cell:/c%3A/Users/admin/Desktop/%5BP4%5DCatProject/csv_preprocess.ipynb#X15sZmlsZQ%3D%3D?line=19'>20</a>\u001b[0m         json_df \u001b[39m=\u001b[39m pd\u001b[39m.\u001b[39mjson_normalize(data[\u001b[39m'\u001b[39m\u001b[39mannotations\u001b[39m\u001b[39m'\u001b[39m])\n",
      "\u001b[1;31mFileNotFoundError\u001b[0m: [Errno 2] No such file or directory: '20201113_cat-arch-000157.mp4.json'"
     ]
    }
   ],
   "source": [
    "### 테스트중 ###\n",
    "framename = []\n",
    "\n",
    "for i in range(len(img_pose)):\n",
    "    # json\n",
    "    json_list  = natsort.natsorted( os.listdir(json_path + json_pose[i]) )\n",
    "    # img\n",
    "    video_list = natsort.natsorted( os.listdir(img_path + img_pose[i]) )\n",
    "    # 다음 for문을 위한 경로 및 변수 설정\n",
    "    video_list_path = img_path + img_pose[i] + '/'\n",
    "\n",
    "# video_folder_list\n",
    "# json_list[0].split('.json')[0]\n",
    "\n",
    "    for j in range(len(video_list)):\n",
    "        # json\n",
    "        if json_list[j].split('.json')[0] == video_list[j]:\n",
    "            with open(json_list[j], encoding='utf-8') as f:\n",
    "                data = json.load(f)\n",
    "            json_df = pd.json_normalize(data['annotations'])\n",
    "\n",
    "            for col in list(json_df.columns):\n",
    "                if col == 'frame_url' or 'timestamp' or 'bounding_box.x' or 'bounding_box.y' or 'bounding_box.width' or 'bounding_box.height' or 'keypoints.1' or 'keypoints.2' or 'keypoints.3' or 'keypoints.4' or 'keypoints.5' or 'keypoints.6' or 'keypoints.7' or 'keypoints.8' or 'keypoints.9' or 'keypoints.10' or 'keypoints.11' or 'keypoints.12' or 'keypoints.13' or 'keypoints.14' or 'keypoints.15':\n",
    "                    json_df = json_df.drop(col, axis=1)\n",
    "\n",
    "            json_df = json_df.rename({'keypoints.1.x':'0_x', 'keypoints.1.y':'0_y',\n",
    "                                      'keypoints.2.x':'1_x', 'keypoints.2.y':'1_y',\n",
    "                                      'keypoints.3.x':'2_x', 'keypoints.3.y':'2_y',\n",
    "                                      'keypoints.4.x':'3_x', 'keypoints.4.y':'3_y',\n",
    "                                      'keypoints.5.x':'4_x', 'keypoints.5.y':'4_y',\n",
    "                                      'keypoints.6.x':'5_x', 'keypoints.6.y':'5_y',\n",
    "                                      'keypoints.7.x':'6_x', 'keypoints.7.y':'6_y',\n",
    "                                      'keypoints.8.x':'7_x', 'keypoints.8.y':'7_y',\n",
    "                                      'keypoints.9.x':'8_x', 'keypoints.9.y':'8_y',\n",
    "                                      'keypoints.10.x':'9_x', 'keypoints.10.y':'9_y',\n",
    "                                      'keypoints.11.x':'10_x', 'keypoints.11.y':'10_y',\n",
    "                                      'keypoints.12.x':'11_x', 'keypoints.12.y':'11_y',\n",
    "                                      'keypoints.13.x':'12_x', 'keypoints.13.y':'12_y',\n",
    "                                      'keypoints.14.x':'13_x', 'keypoints.14.y':'13_y',\n",
    "                                      'keypoints.15.x':'14_x', 'keypoints.15.y':'14_y',})\n",
    "        # img\n",
    "        frame_list = natsort.natsorted( os.listdir(video_list_path + video_list[j]) )\n",
    "        # 다음 for문을 위한 경로 및 변수 설정\n",
    "        video_number = video_list[j]\n",
    "\n",
    "        for frameno in frame_list:\n",
    "            frames = video_number + '/' + frameno\n",
    "            framename.append(frames)\n",
    "            # 데이터프레임으로 저장하고, 비교를 위한 'frame' 열 생성\n",
    "            img_df = pd.DataFrame(framename, columns=['image'])\n",
    "            img_df['frame'] = img_df['image'].apply(getFrameNum)\n",
    "            # 있는지 없는지 확인할 수 있게 리스트에 값들 담아주기\n",
    "            real_frame_list = img_df['frame'].tolist()\n",
    "            # real_frame_list에 없는 프레임들 제거"
   ]
  },
  {
   "cell_type": "code",
   "execution_count": 5,
   "metadata": {},
   "outputs": [],
   "source": [
    "### 이 셀은 구동에 상당히 시간이 소요될 수 있다 ###\n",
    "framename = []\n",
    "\n",
    "## 1 ##\n",
    "for i in range(len(img_pose)):\n",
    "    video_list = os.listdir(img_path + img_pose[i])\n",
    "    video_list = natsort.natsorted(video_list)\n",
    "    # 다음 for문을 위한 경로 및 변수 설정\n",
    "    video_list_path = img_path + img_pose[i] + '/'\n",
    "\n",
    "    ## 2 ##\n",
    "    for j in range(len(video_list)):\n",
    "        frame_list = os.listdir(video_list_path + video_list[j])\n",
    "        frame_list = natsort.natsorted(frame_list)\n",
    "        # 다음 for문을 위한 경로 및 변수 설정\n",
    "        video_number = video_list[j]\n",
    "        frame_list_path = video_list_path + video_list[j] + '/'\n",
    "    \n",
    "        ## 3 ##\n",
    "        for frameno in frame_list:\n",
    "            frames = video_number + '/' + frameno\n",
    "            framename.append(frames)\n",
    "            # 데이터프레임으로 저장 및 비교를 위한 'frame'열 생성\n",
    "            img_df = pd.DataFrame(framename, columns=['image'])\n",
    "            img_df['frame'] = img_df['image'].apply(getFrameNum)\n",
    "            # 있는지 없는지 확인할 수 있게 리스트에 값들 담아주기\n",
    "            real_frame_list = img_df['frame'].tolist()\n",
    "            # real_frame_list에 없는 프레임들 제거"
   ]
  },
  {
   "cell_type": "markdown",
   "metadata": {},
   "source": [
    "- json_df"
   ]
  },
  {
   "cell_type": "code",
   "execution_count": 6,
   "metadata": {},
   "outputs": [
    {
     "data": {
      "text/plain": [
       "['ARCH']"
      ]
     },
     "execution_count": 6,
     "metadata": {},
     "output_type": "execute_result"
    }
   ],
   "source": [
    "json_pose = os.listdir(json_path)\n",
    "json_pose = natsort.natsorted(json_pose)\n",
    "json_pose"
   ]
  },
  {
   "cell_type": "code",
   "execution_count": 22,
   "metadata": {},
   "outputs": [
    {
     "ename": "FileNotFoundError",
     "evalue": "[Errno 2] No such file or directory: '20201113_cat-arch-000157.mp4.json'",
     "output_type": "error",
     "traceback": [
      "\u001b[1;31m---------------------------------------------------------------------------\u001b[0m",
      "\u001b[1;31mFileNotFoundError\u001b[0m                         Traceback (most recent call last)",
      "\u001b[1;32mc:\\Users\\admin\\Desktop\\[P4]CatProject\\csv_preprocess.ipynb 셀 12\u001b[0m in \u001b[0;36m<cell line: 1>\u001b[1;34m()\u001b[0m\n\u001b[0;32m      <a href='vscode-notebook-cell:/c%3A/Users/admin/Desktop/%5BP4%5DCatProject/csv_preprocess.ipynb#X13sZmlsZQ%3D%3D?line=3'>4</a>\u001b[0m \u001b[39m# 다음 for문을 위한 경로 및 변수 설정\u001b[39;00m\n\u001b[0;32m      <a href='vscode-notebook-cell:/c%3A/Users/admin/Desktop/%5BP4%5DCatProject/csv_preprocess.ipynb#X13sZmlsZQ%3D%3D?line=5'>6</a>\u001b[0m \u001b[39mfor\u001b[39;00m j \u001b[39min\u001b[39;00m \u001b[39mrange\u001b[39m(\u001b[39mlen\u001b[39m(json_list)):\n\u001b[1;32m----> <a href='vscode-notebook-cell:/c%3A/Users/admin/Desktop/%5BP4%5DCatProject/csv_preprocess.ipynb#X13sZmlsZQ%3D%3D?line=6'>7</a>\u001b[0m     \u001b[39mwith\u001b[39;00m \u001b[39mopen\u001b[39;49m(json_list[j], encoding\u001b[39m=\u001b[39;49m\u001b[39m'\u001b[39;49m\u001b[39mutf-8\u001b[39;49m\u001b[39m'\u001b[39;49m) \u001b[39mas\u001b[39;00m f:\n\u001b[0;32m      <a href='vscode-notebook-cell:/c%3A/Users/admin/Desktop/%5BP4%5DCatProject/csv_preprocess.ipynb#X13sZmlsZQ%3D%3D?line=7'>8</a>\u001b[0m         data \u001b[39m=\u001b[39m json\u001b[39m.\u001b[39mload(f)\n\u001b[0;32m     <a href='vscode-notebook-cell:/c%3A/Users/admin/Desktop/%5BP4%5DCatProject/csv_preprocess.ipynb#X13sZmlsZQ%3D%3D?line=9'>10</a>\u001b[0m         json_df \u001b[39m=\u001b[39m pd\u001b[39m.\u001b[39mjson_normalize(data[\u001b[39m'\u001b[39m\u001b[39mannotations\u001b[39m\u001b[39m'\u001b[39m])\n",
      "\u001b[1;31mFileNotFoundError\u001b[0m: [Errno 2] No such file or directory: '20201113_cat-arch-000157.mp4.json'"
     ]
    }
   ],
   "source": [
    "for i in range(len(json_pose)):\n",
    "    json_list = os.listdir(json_path + json_pose[i])\n",
    "    json_list = natsort.natsorted(json_list)\n",
    "    # 다음 for문을 위한 경로 및 변수 설정\n",
    "    \n",
    "    for j in range(len(json_list)):\n",
    "        with open(json_list[j], encoding='utf-8') as f:\n",
    "            data = json.load(f)\n",
    "\n",
    "            json_df = pd.json_normalize(data['annotations'])\n",
    "            json_df = json_df.drop(columns=['frame_url', 'timestamp'])\n",
    "            json_df = json_df.rename({'keypoints.1.x':'0_x', 'keypoints.1.y':'0_y',\n",
    "                                      'keypoints.2.x':'1_x', 'keypoints.2.y':'1_y',\n",
    "                                      'keypoints.3.x':'2_x', 'keypoints.3.y':'2_y',\n",
    "                                      'keypoints.4.x':'3_x', 'keypoints.4.y':'3_y',\n",
    "                                      'keypoints.5.x':'4_x', 'keypoints.5.y':'4_y',\n",
    "                                      'keypoints.6.x':'5_x', 'keypoints.6.y':'5_y',\n",
    "                                      'keypoints.7.x':'6_x', 'keypoints.7.y':'6_y',\n",
    "                                      'keypoints.8.x':'7_x', 'keypoints.8.y':'7_y',\n",
    "                                      'keypoints.9.x':'8_x', 'keypoints.9.y':'8_y',\n",
    "                                      'keypoints.10.x':'9_x', 'keypoints.10.y':'9_y',\n",
    "                                      'keypoints.11.x':'10_x', 'keypoints.11.y':'10_y',\n",
    "                                      'keypoints.12.x':'11_x', 'keypoints.12.y':'11_y',\n",
    "                                      'keypoints.13.x':'12_x', 'keypoints.13.y':'12_y',\n",
    "                                      'keypoints.14.x':'13_x', 'keypoints.14.y':'13_y',\n",
    "                                      'keypoints.15.x':'14_x', 'keypoints.15.y':'14_y',})\n",
    "json_df"
   ]
  },
  {
   "cell_type": "code",
   "execution_count": null,
   "metadata": {},
   "outputs": [],
   "source": [
    "# real_frame_list에 없는 프레임들 제거\n",
    "for i in range(len(json_df)):\n",
    "    if json_df.iloc[i, 0] not in real_frame_list:\n",
    "        json_df.drop(i)\n",
    "json_df"
   ]
  },
  {
   "cell_type": "code",
   "execution_count": null,
   "metadata": {},
   "outputs": [],
   "source": [
    "# 제거한 이후에 json_df와 img_df를 병합해준다"
   ]
  }
 ],
 "metadata": {
  "kernelspec": {
   "display_name": "Python 3.10.6 64-bit (microsoft store)",
   "language": "python",
   "name": "python3"
  },
  "language_info": {
   "codemirror_mode": {
    "name": "ipython",
    "version": 3
   },
   "file_extension": ".py",
   "mimetype": "text/x-python",
   "name": "python",
   "nbconvert_exporter": "python",
   "pygments_lexer": "ipython3",
   "version": "3.10.6"
  },
  "orig_nbformat": 4,
  "vscode": {
   "interpreter": {
    "hash": "8bf0d51478355d2251941b3b98616086516a0eddd7c72ee47a3371765770709a"
   }
  }
 },
 "nbformat": 4,
 "nbformat_minor": 2
}
